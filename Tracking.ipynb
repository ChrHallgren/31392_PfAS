{
 "cells": [
  {
   "cell_type": "markdown",
   "metadata": {},
   "source": [
    "# Tracking\n",
    "First we import the necessary tools:"
   ]
  },
  {
   "cell_type": "code",
   "execution_count": 2,
   "metadata": {},
   "outputs": [
    {
     "data": {
      "text/plain": [
       "<Figure size 432x288 with 0 Axes>"
      ]
     },
     "metadata": {},
     "output_type": "display_data"
    }
   ],
   "source": [
    "import numpy as np\n",
    "import cv2\n",
    "import glob\n",
    "import matplotlib.pyplot as plt\n",
    "import os\n",
    "import imutils\n",
    "import scipy\n",
    "import time\n",
    "\n",
    "plt.gray()"
   ]
  },
  {
   "cell_type": "markdown",
   "metadata": {},
   "source": [
    "Create the stereo class to change any image from 2D to 3D"
   ]
  },
  {
   "cell_type": "code",
   "execution_count": 74,
   "metadata": {},
   "outputs": [],
   "source": [
    "class Stereo ():\n",
    "    \"\"\"\n",
    "    Class that calculates the disparity of a stereo camera and keeps it so \n",
    "    any wanted image can be transformed to 3D. \n",
    "    \"\"\"\n",
    "    def __init__(self, leftFilename, rightFilename):\n",
    "        \"\"\"\n",
    "        Method to instantiate the class.\n",
    "            * Input:\n",
    "            - \n",
    "        \"\"\"\n",
    "        self.leftFilename = leftFilename\n",
    "        self.rightFilename = rightFilename\n",
    "        self.disp = 0\n",
    "        self.calculateDisparity()\n",
    "    \n",
    "    def calculateDisparity (self):\n",
    "        # Get the images\n",
    "        leftImg = cv2.imread(leftFilename)\n",
    "        rightImg = cv2.imread(rightFilename)\n",
    "        \n",
    "        # Resize images\n",
    "        imgSize = (int(leftImg.shape[1]/5), int(leftImg.shape[0]/5))\n",
    "        leftImg = cv2.resize(leftImg, imgSize, interpolation=cv2.INTER_AREA)\n",
    "        rightImg = cv2.resize(rightImg, imgSize, interpolation=cv2.INTER_AREA)\n",
    "        \n",
    "        # Convert images to grayscale for template matching\n",
    "        leftGray = cv2.cvtColor(leftImg, cv2.COLOR_BGR2GRAY)\n",
    "        rightGray = cv2.cvtColor(rightImg, cv2.COLOR_BGR2GRAY)\n",
    "        \n",
    "        # Define parameters\n",
    "        minDisp = 20\n",
    "        numDisp = 3 * 16\n",
    "        blockSize = 5\n",
    "        stereo = cv2.StereoBM_create(numDisparities=numDisp, blockSize = blockSize)\n",
    "        stereo.setMinDisparity(minDisp)\n",
    "        stereo.setDisp12MaxDiff(200)\n",
    "        stereo.setUniquenessRatio(1)\n",
    "        stereo.setSpeckleRange(3)\n",
    "        stereo.setSpeckleWindowSize(3)\n",
    "        \n",
    "        min_disp = 100\n",
    "        num_disp = 128 - min_disp\n",
    "        window_size = 17\n",
    "        stereo = cv2.StereoBM_create(numDisparities = num_disp, blockSize = window_size)\n",
    "        stereo.setMinDisparity(min_disp)\n",
    "        stereo.setNumDisparities(num_disp)\n",
    "        stereo.setBlockSize(window_size)\n",
    "        stereo.setDisp12MaxDiff(0)\n",
    "        stereo.setUniquenessRatio(10)\n",
    "        stereo.setSpeckleRange(32)\n",
    "        stereo.setSpeckleWindowSize(100)\n",
    "        \n",
    "        window_size = 3\n",
    "        min_disp = 3*16\n",
    "        num_disp = 112-min_disp\n",
    "        stereo = cv2.StereoSGBM_create(minDisparity = min_disp,\n",
    "            numDisparities = num_disp,\n",
    "            blockSize = 16,\n",
    "            P1 = 8*3*window_size**2,\n",
    "            P2 = 32*3*window_size**2,\n",
    "            disp12MaxDiff = 1,\n",
    "            uniquenessRatio = 10,\n",
    "            speckleWindowSize = 100,\n",
    "            speckleRange = 32\n",
    "        )\n",
    "        \n",
    "        disp = stereo.compute(leftGray, rightGray).astype(np.float32) / 16.0\n",
    "        \n",
    "        plt.figure(figsize=(18, 18))\n",
    "        plt.imshow(disp)\n",
    "        \n",
    "    \n",
    "    def get3DImg(self):\n",
    "        pass"
   ]
  },
  {
   "cell_type": "code",
   "execution_count": null,
   "metadata": {},
   "outputs": [],
   "source": []
  },
  {
   "cell_type": "code",
   "execution_count": null,
   "metadata": {},
   "outputs": [],
   "source": []
  },
  {
   "cell_type": "code",
   "execution_count": 75,
   "metadata": {},
   "outputs": [
    {
     "data": {
      "image/png": "[encoded data removed]",
      "text/plain": [
       "<Figure size 1296x1296 with 1 Axes>"
      ]
     },
     "metadata": {
      "needs_background": "light"
     },
     "output_type": "display_data"
    }
   ],
   "source": [
    "# Read the images in this directory\n",
    "rightFilename = \"undistortedImagesWithoutOcclusion/1585434279_805531979_Right.png\"\n",
    "leftFilename = rightFilename.replace(\"Right\", \"Left\")\n",
    "rightImagesGlob = glob.glob(\"undistortedImagesWithoutOcclusion/*Right.png\")\n",
    "assert rightImagesGlob\n",
    "\n",
    "stereoObj = Stereo(rightFilename, leftFilename)\n",
    "\n",
    "# for rightFilename in rightImagesGlob:\n",
    "#     # Get the left image from the right image\n",
    "#     leftFilename = rightFilename.replace(\"Right\", \"Left\")\n",
    "#     rightImg = cv2.imread(rightFilename)\n",
    "#     leftImg = cv2.imread(leftFilename)\n",
    "# #     gray = cv2.cvtColor(img, cv2.COLOR_BGR2GRAY)"
   ]
  },
  {
   "cell_type": "code",
   "execution_count": 76,
   "metadata": {},
   "outputs": [
    {
     "name": "stderr",
     "output_type": "stream",
     "text": [
      "/home/carla/.local/lib/python3.6/site-packages/ipykernel_launcher.py:7: DeprecationWarning: elementwise comparison failed; this will raise an error in the future.\n",
      "  import sys\n"
     ]
    },
    {
     "ename": "KeyboardInterrupt",
     "evalue": "",
     "output_type": "error",
     "traceback": [
      "\u001b[0;31m---------------------------------------------------------------------------\u001b[0m",
      "\u001b[0;31mKeyboardInterrupt\u001b[0m                         Traceback (most recent call last)",
      "\u001b[0;32m<ipython-input-76-565252a711f0>\u001b[0m in \u001b[0;36m<module>\u001b[0;34m\u001b[0m\n\u001b[1;32m     12\u001b[0m         \u001b[0;32mcontinue\u001b[0m\u001b[0;34m\u001b[0m\u001b[0;34m\u001b[0m\u001b[0m\n\u001b[1;32m     13\u001b[0m \u001b[0;34m\u001b[0m\u001b[0m\n\u001b[0;32m---> 14\u001b[0;31m     \u001b[0mrightImg\u001b[0m \u001b[0;34m=\u001b[0m \u001b[0mcv2\u001b[0m\u001b[0;34m.\u001b[0m\u001b[0mimread\u001b[0m\u001b[0;34m(\u001b[0m\u001b[0mrightFilename\u001b[0m\u001b[0;34m)\u001b[0m\u001b[0;34m\u001b[0m\u001b[0;34m\u001b[0m\u001b[0m\n\u001b[0m\u001b[1;32m     15\u001b[0m     \u001b[0mrightGray\u001b[0m \u001b[0;34m=\u001b[0m \u001b[0mcv2\u001b[0m\u001b[0;34m.\u001b[0m\u001b[0mcvtColor\u001b[0m\u001b[0;34m(\u001b[0m\u001b[0mrightImg\u001b[0m\u001b[0;34m,\u001b[0m \u001b[0mcv2\u001b[0m\u001b[0;34m.\u001b[0m\u001b[0mCOLOR_BGR2GRAY\u001b[0m\u001b[0;34m)\u001b[0m\u001b[0;34m\u001b[0m\u001b[0;34m\u001b[0m\u001b[0m\n\u001b[1;32m     16\u001b[0m     \u001b[0mrightGray\u001b[0m \u001b[0;34m=\u001b[0m \u001b[0mcv2\u001b[0m\u001b[0;34m.\u001b[0m\u001b[0mGaussianBlur\u001b[0m\u001b[0;34m(\u001b[0m\u001b[0mrightGray\u001b[0m\u001b[0;34m,\u001b[0m \u001b[0;34m(\u001b[0m\u001b[0;36m21\u001b[0m\u001b[0;34m,\u001b[0m \u001b[0;36m21\u001b[0m\u001b[0;34m)\u001b[0m\u001b[0;34m,\u001b[0m \u001b[0;36m0\u001b[0m\u001b[0;34m)\u001b[0m\u001b[0;34m\u001b[0m\u001b[0;34m\u001b[0m\u001b[0m\n",
      "\u001b[0;31mKeyboardInterrupt\u001b[0m: "
     ]
    }
   ],
   "source": [
    "# Read the images in this directory\n",
    "rightImagesGlob = glob.glob(\"undistortedImagesWithoutOcclusion/*Right.png\")\n",
    "rightImagesGlob = sorted(rightImagesGlob)\n",
    "\n",
    "firstFrame = []\n",
    "for rightFilename in rightImagesGlob:\n",
    "    if firstFrame == []:  \n",
    "        rightImg = cv2.imread(rightFilename)\n",
    "        rightGray = cv2.cvtColor(rightImg, cv2.COLOR_BGR2GRAY)\n",
    "        rightGray = cv2.GaussianBlur(rightGray, (21, 21), 0)\n",
    "        firstFrame = rightGray\n",
    "        continue\n",
    "    \n",
    "    rightImg = cv2.imread(rightFilename)\n",
    "    rightGray = cv2.cvtColor(rightImg, cv2.COLOR_BGR2GRAY)\n",
    "    rightGray = cv2.GaussianBlur(rightGray, (21, 21), 0)\n",
    "    \n",
    "    # compute the absolute difference between the current frame and\n",
    "    # first frame\n",
    "    frameDelta = cv2.absdiff(firstFrame, rightGray)\n",
    "    thresh = cv2.threshold(frameDelta, 25, 255, cv2.THRESH_BINARY)[1]\n",
    "    # dilate the thresholded image to fill in holes, then find contours\n",
    "    # on thresholded image\n",
    "    thresh = cv2.dilate(thresh, None, iterations=2)\n",
    "    cnts = cv2.findContours(thresh.copy(), cv2.RETR_EXTERNAL,\n",
    "        cv2.CHAIN_APPROX_SIMPLE)\n",
    "    cnts = imutils.grab_contours(cnts)\n",
    "    # loop over the contours\n",
    "    for c in cnts:\n",
    "        # if the contour is too small, ignore it\n",
    "        if cv2.contourArea(c) < 4000:\n",
    "            continue\n",
    "        # compute the bounding box for the contour, draw it on the frame,\n",
    "        # and update the text\n",
    "        (x, y, w, h) = cv2.boundingRect(c)\n",
    "        cv2.circle(rightImg, (int(x + w/2), int(y + h/2)), 10, (0, 0, 255), 2)\n",
    "        cv2.rectangle(rightImg, (x, y), (x + w, y + h), (0, 255, 0), 2)\n",
    "    \n",
    "    cv2.imshow(\"Tracking\", rightImg)\n",
    "    \n",
    "    key = cv2.waitKey(10) & 0xFF\n",
    "    # if the `q` key is pressed, break from the lop\n",
    "    if key == ord(\"q\"):\n",
    "        break\n",
    "    \n",
    "#     firstFrame = rightGray\n",
    "    \n",
    "cv2.destroyAllWindows()"
   ]
  },
  {
   "cell_type": "code",
   "execution_count": null,
   "metadata": {},
   "outputs": [],
   "source": []
  },
  {
   "cell_type": "code",
   "execution_count": null,
   "metadata": {},
   "outputs": [],
   "source": []
  }
 ],
 "metadata": {
  "kernelspec": {
   "display_name": "Python 3",
   "language": "python",
   "name": "python3"
  },
  "language_info": {
   "codemirror_mode": {
    "name": "ipython",
    "version": 3
   },
   "file_extension": ".py",
   "mimetype": "text/x-python",
   "name": "python",
   "nbconvert_exporter": "python",
   "pygments_lexer": "ipython3",
   "version": "3.6.9"
  }
 },
 "nbformat": 4,
 "nbformat_minor": 2
}
